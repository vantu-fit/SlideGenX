{
 "cells": [
  {
   "cell_type": "code",
   "execution_count": 5,
   "id": "23c25fd6",
   "metadata": {},
   "outputs": [
    {
     "data": {
      "text/plain": [
       "8400.0"
      ]
     },
     "execution_count": 5,
     "metadata": {},
     "output_type": "execute_result"
    }
   ],
   "source": [
    "x = 600\n",
    "y = 400\n",
    "\n",
    "9*x + 7.5 * y"
   ]
  },
  {
   "cell_type": "code",
   "execution_count": null,
   "id": "c788ecb8",
   "metadata": {},
   "outputs": [],
   "source": []
  }
 ],
 "metadata": {
  "kernelspec": {
   "display_name": "ml-env",
   "language": "python",
   "name": "python3"
  },
  "language_info": {
   "codemirror_mode": {
    "name": "ipython",
    "version": 3
   },
   "file_extension": ".py",
   "mimetype": "text/x-python",
   "name": "python",
   "nbconvert_exporter": "python",
   "pygments_lexer": "ipython3",
   "version": "3.11.7"
  }
 },
 "nbformat": 4,
 "nbformat_minor": 5
}
